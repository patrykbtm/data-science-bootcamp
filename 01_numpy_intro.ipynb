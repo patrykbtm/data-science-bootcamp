{
  "nbformat": 4,
  "nbformat_minor": 0,
  "metadata": {
    "colab": {
      "name": "01_numpy_intro.ipynb",
      "provenance": [],
      "collapsed_sections": [],
      "authorship_tag": "ABX9TyPlatK2Xxu6weM5PqtBbRPN",
      "include_colab_link": true
    },
    "kernelspec": {
      "name": "python3",
      "display_name": "Python 3"
    }
  },
  "cells": [
    {
      "cell_type": "markdown",
      "metadata": {
        "id": "view-in-github",
        "colab_type": "text"
      },
      "source": [
        "<a href=\"https://colab.research.google.com/github/patrykbtm/data-science-bootcamp/blob/master/01_numpy_intro.ipynb\" target=\"_parent\"><img src=\"https://colab.research.google.com/assets/colab-badge.svg\" alt=\"Open In Colab\"/></a>"
      ]
    },
    {
      "cell_type": "markdown",
      "metadata": {
        "id": "WCGNeW27AonZ",
        "colab_type": "text"
      },
      "source": [
        "**Podstawy**\n"
      ]
    },
    {
      "cell_type": "code",
      "metadata": {
        "id": "fXp9pYZCAtk8",
        "colab_type": "code",
        "colab": {
          "base_uri": "https://localhost:8080/",
          "height": 35
        },
        "outputId": "ae1659b5-1283-4cd2-ad8e-f9c5bc802dc2"
      },
      "source": [
        "import numpy as np\n",
        "np.__version__"
      ],
      "execution_count": 2,
      "outputs": [
        {
          "output_type": "execute_result",
          "data": {
            "application/vnd.google.colaboratory.intrinsic": {
              "type": "string"
            },
            "text/plain": [
              "'1.18.5'"
            ]
          },
          "metadata": {
            "tags": []
          },
          "execution_count": 2
        }
      ]
    },
    {
      "cell_type": "markdown",
      "metadata": {
        "id": "IusG2vKhAoMt",
        "colab_type": "text"
      },
      "source": [
        ""
      ]
    },
    {
      "cell_type": "code",
      "metadata": {
        "id": "HVXNcUv2A7A_",
        "colab_type": "code",
        "colab": {}
      },
      "source": [
        "print(dir(np))"
      ],
      "execution_count": null,
      "outputs": []
    },
    {
      "cell_type": "code",
      "metadata": {
        "id": "Tqmzck7sA9oQ",
        "colab_type": "code",
        "colab": {}
      },
      "source": [
        "help(np.array)"
      ],
      "execution_count": null,
      "outputs": []
    },
    {
      "cell_type": "markdown",
      "metadata": {
        "id": "J0rK2twdBhNF",
        "colab_type": "text"
      },
      "source": [
        "**1D Array**"
      ]
    },
    {
      "cell_type": "code",
      "metadata": {
        "id": "2MpqqfY0BeK2",
        "colab_type": "code",
        "colab": {
          "base_uri": "https://localhost:8080/",
          "height": 34
        },
        "outputId": "9aa3cabe-1b61-4b67-b980-71381f9e8256"
      },
      "source": [
        ""
      ],
      "execution_count": 5,
      "outputs": [
        {
          "output_type": "stream",
          "text": [
            "[1 2 3 4 5]\n"
          ],
          "name": "stdout"
        }
      ]
    },
    {
      "cell_type": "code",
      "metadata": {
        "id": "kM9VJn_qBymO",
        "colab_type": "code",
        "colab": {
          "base_uri": "https://localhost:8080/",
          "height": 119
        },
        "outputId": "797e6792-9836-4ba0-c66e-49cf6cf63d1d"
      },
      "source": [
        "x = np.array([1, 2, 3, 4, 5])\n",
        "print(x)\n",
        "\n",
        "print(type(x))\n",
        "\n",
        "print(\"x.ndim: \", x.ndim)\n",
        "print(\"x.shape: \", x.shape)\n",
        "print(\"x.size: \", x.size)\n",
        "print(\"x.dtype: \", x.dtype)"
      ],
      "execution_count": 14,
      "outputs": [
        {
          "output_type": "stream",
          "text": [
            "[1 2 3 4 5]\n",
            "<class 'numpy.ndarray'>\n",
            "x.ndim:  1\n",
            "x.shape:  (5,)\n",
            "x.size:  5\n",
            "x.dtype:  int64\n"
          ],
          "name": "stdout"
        }
      ]
    },
    {
      "cell_type": "code",
      "metadata": {
        "id": "YJAC5n_CB1CW",
        "colab_type": "code",
        "colab": {
          "base_uri": "https://localhost:8080/",
          "height": 119
        },
        "outputId": "2ec6f9ba-6b08-4975-b91f-8e3bfe49f0f2"
      },
      "source": [
        "y = np.array([1.4, 2.3, 3.1])\n",
        "print(y)\n",
        "\n",
        "print(type(y))\n",
        "\n",
        "print(\"y.ndim: \", y.ndim)\n",
        "print(\"y.shape: \", y.shape)\n",
        "print(\"y.size: \", y.size)\n",
        "print(\"y.dtype: \", y.dtype)"
      ],
      "execution_count": 15,
      "outputs": [
        {
          "output_type": "stream",
          "text": [
            "[1.4 2.3 3.1]\n",
            "<class 'numpy.ndarray'>\n",
            "y.ndim:  1\n",
            "y.shape:  (3,)\n",
            "y.size:  3\n",
            "y.dtype:  float64\n"
          ],
          "name": "stdout"
        }
      ]
    },
    {
      "cell_type": "markdown",
      "metadata": {
        "id": "bxm7v0sjC1JS",
        "colab_type": "text"
      },
      "source": [
        "**2D Array**"
      ]
    },
    {
      "cell_type": "code",
      "metadata": {
        "id": "MOfx6sHYB72W",
        "colab_type": "code",
        "colab": {
          "base_uri": "https://localhost:8080/",
          "height": 136
        },
        "outputId": "21d5fe31-eea1-4261-c73a-a22952dbddea"
      },
      "source": [
        "z = np.array([[1, 2], [-3, 1]])\n",
        "print(z)\n",
        "\n",
        "print(type(z))\n",
        "\n",
        "print(\"z.ndim: \", z.ndim)\n",
        "print(\"z.shape: \", z.shape)\n",
        "print(\"z.size: \", z.size)\n",
        "print(\"z.dtype: \", z.dtype)"
      ],
      "execution_count": 17,
      "outputs": [
        {
          "output_type": "stream",
          "text": [
            "[[ 1  2]\n",
            " [-3  1]]\n",
            "<class 'numpy.ndarray'>\n",
            "z.ndim:  2\n",
            "z.shape:  (2, 2)\n",
            "z.size:  4\n",
            "z.dtype:  int64\n"
          ],
          "name": "stdout"
        }
      ]
    },
    {
      "cell_type": "markdown",
      "metadata": {
        "id": "6YPVhb-dDvQZ",
        "colab_type": "text"
      },
      "source": [
        "**3D Array**"
      ]
    },
    {
      "cell_type": "code",
      "metadata": {
        "id": "OeyNC5ADDPYc",
        "colab_type": "code",
        "colab": {
          "base_uri": "https://localhost:8080/",
          "height": 187
        },
        "outputId": "65c0860e-6f96-4cd7-a9c5-bc6c0ce45dfa"
      },
      "source": [
        "a3D =  np.array([\n",
        "                 [[4,3,1],\n",
        "                  [3,2,1]],\n",
        "                 \n",
        "                 [[4,3,2],\n",
        "                  [5,3,1]],\n",
        "                 \n",
        "                 [[4,1,5],\n",
        "                  [6,4,2]]\n",
        "])\n",
        "\n",
        "print(a3D)\n",
        "print(a3D.ndim)\n",
        "print(a3D.shape)"
      ],
      "execution_count": 21,
      "outputs": [
        {
          "output_type": "stream",
          "text": [
            "[[[4 3 1]\n",
            "  [3 2 1]]\n",
            "\n",
            " [[4 3 2]\n",
            "  [5 3 1]]\n",
            "\n",
            " [[4 1 5]\n",
            "  [6 4 2]]]\n",
            "3\n",
            "(3, 2, 3)\n"
          ],
          "name": "stdout"
        }
      ]
    },
    {
      "cell_type": "markdown",
      "metadata": {
        "id": "nBUYhZgKi20O",
        "colab_type": "text"
      },
      "source": [
        "**Tablice - Typy danych**"
      ]
    },
    {
      "cell_type": "code",
      "metadata": {
        "id": "x2j1YWMPEuhW",
        "colab_type": "code",
        "colab": {
          "base_uri": "https://localhost:8080/",
          "height": 119
        },
        "outputId": "befad40f-6c8a-42b6-e7e8-9073930b2020"
      },
      "source": [
        "tabInt = np.array([2,4,5])\n",
        "print(tabInt)\n",
        "print(tabInt.dtype)\n",
        "\n",
        "tabInt = np.array([1, 4.3, 5.7], dtype = 'int64')\n",
        "print(tabInt)\n",
        "print(tabInt.dtype)\n",
        "\n",
        "tabFloat = np.array([1.4, 4,2])\n",
        "print(tabFloat)\n",
        "print(tabFloat.dtype)"
      ],
      "execution_count": 9,
      "outputs": [
        {
          "output_type": "stream",
          "text": [
            "[2 4 5]\n",
            "int64\n",
            "[1 4 5]\n",
            "int64\n",
            "[1.4 4.  2. ]\n",
            "float64\n"
          ],
          "name": "stdout"
        }
      ]
    },
    {
      "cell_type": "markdown",
      "metadata": {
        "id": "CWAMDyX8kgG-",
        "colab_type": "text"
      },
      "source": [
        "**Tworzenie tablic**"
      ]
    },
    {
      "cell_type": "code",
      "metadata": {
        "id": "t0RYLh0bjDxg",
        "colab_type": "code",
        "colab": {
          "base_uri": "https://localhost:8080/",
          "height": 85
        },
        "outputId": "08153db1-f072-4d85-834e-3865b494a942"
      },
      "source": [
        "tabZeros = np.zeros(shape = [4, 10])\n",
        "print(tabZeros)"
      ],
      "execution_count": 10,
      "outputs": [
        {
          "output_type": "stream",
          "text": [
            "[[0. 0. 0. 0. 0. 0. 0. 0. 0. 0.]\n",
            " [0. 0. 0. 0. 0. 0. 0. 0. 0. 0.]\n",
            " [0. 0. 0. 0. 0. 0. 0. 0. 0. 0.]\n",
            " [0. 0. 0. 0. 0. 0. 0. 0. 0. 0.]]\n"
          ],
          "name": "stdout"
        }
      ]
    },
    {
      "cell_type": "code",
      "metadata": {
        "id": "MWpwBQatkuM6",
        "colab_type": "code",
        "colab": {
          "base_uri": "https://localhost:8080/",
          "height": 119
        },
        "outputId": "454ebcf6-bb45-4464-e2f7-30e3c85f01f3"
      },
      "source": [
        "tabOnes = np.ones(shape = [5,5], dtype = 'int64')\n",
        "print(tabOnes)\n",
        "print(tabOnes.dtype)"
      ],
      "execution_count": 11,
      "outputs": [
        {
          "output_type": "stream",
          "text": [
            "[[1 1 1 1 1]\n",
            " [1 1 1 1 1]\n",
            " [1 1 1 1 1]\n",
            " [1 1 1 1 1]\n",
            " [1 1 1 1 1]]\n",
            "int64\n"
          ],
          "name": "stdout"
        }
      ]
    },
    {
      "cell_type": "code",
      "metadata": {
        "id": "uzVnc2COoDJn",
        "colab_type": "code",
        "colab": {
          "base_uri": "https://localhost:8080/",
          "height": 85
        },
        "outputId": "8b1ab416-f657-4e4d-a3b7-9cf01823c5e6"
      },
      "source": [
        "tabFull = np.full(shape = [3,3], fill_value= 5)\n",
        "print(tabFull)\n",
        "print(tabFull.dtype)"
      ],
      "execution_count": 13,
      "outputs": [
        {
          "output_type": "stream",
          "text": [
            "[[5 5 5]\n",
            " [5 5 5]\n",
            " [5 5 5]]\n",
            "int64\n"
          ],
          "name": "stdout"
        }
      ]
    },
    {
      "cell_type": "code",
      "metadata": {
        "id": "6OdoukFGoLoH",
        "colab_type": "code",
        "colab": {
          "base_uri": "https://localhost:8080/",
          "height": 34
        },
        "outputId": "ad5c7342-b824-4c84-9e7e-bcdae8272b73"
      },
      "source": [
        "tabArange10 = np.arange(10)\n",
        "print(tabArange10)"
      ],
      "execution_count": 15,
      "outputs": [
        {
          "output_type": "stream",
          "text": [
            "[0 1 2 3 4 5 6 7 8 9]\n"
          ],
          "name": "stdout"
        }
      ]
    },
    {
      "cell_type": "code",
      "metadata": {
        "id": "QaU9dmerosSP",
        "colab_type": "code",
        "colab": {
          "base_uri": "https://localhost:8080/",
          "height": 34
        },
        "outputId": "f2be1a86-1a09-4ccf-80bf-e676c237eeaf"
      },
      "source": [
        "tabArange5_9 = np.arange(start = 5, stop = 10)\n",
        "print(tabArange5_9)"
      ],
      "execution_count": 16,
      "outputs": [
        {
          "output_type": "stream",
          "text": [
            "[5 6 7 8 9]\n"
          ],
          "name": "stdout"
        }
      ]
    },
    {
      "cell_type": "code",
      "metadata": {
        "id": "ixkX_zO_pDLn",
        "colab_type": "code",
        "colab": {
          "base_uri": "https://localhost:8080/",
          "height": 34
        },
        "outputId": "6e6712cb-1ee2-4bea-b540-8137ac2ccb1c"
      },
      "source": [
        "tabArange10_90 = np.arange(start = 10, stop = 91, step = 10)\n",
        "print(tabArange10_90)"
      ],
      "execution_count": 17,
      "outputs": [
        {
          "output_type": "stream",
          "text": [
            "[10 20 30 40 50 60 70 80 90]\n"
          ],
          "name": "stdout"
        }
      ]
    },
    {
      "cell_type": "code",
      "metadata": {
        "id": "6-bu2HLXpSLH",
        "colab_type": "code",
        "colab": {
          "base_uri": "https://localhost:8080/",
          "height": 34
        },
        "outputId": "81608c9f-e765-4d05-fa2b-dbe9b0f14ffe"
      },
      "source": [
        "tabArange100_20 = np.arange(start = 100, stop = 10, step = -10)\n",
        "print(tabArange100_20)"
      ],
      "execution_count": 18,
      "outputs": [
        {
          "output_type": "stream",
          "text": [
            "[100  90  80  70  60  50  40  30  20]\n"
          ],
          "name": "stdout"
        }
      ]
    },
    {
      "cell_type": "code",
      "metadata": {
        "id": "Wr9cLxUOpcYQ",
        "colab_type": "code",
        "colab": {
          "base_uri": "https://localhost:8080/",
          "height": 34
        },
        "outputId": "16e3cef1-a8a9-4ab0-8238-9fc32dbf8fe6"
      },
      "source": [
        "tabLinspace0_1 = np.linspace(start = 0, stop = 1, num=11)\n",
        "print(tabLinspace0_1)"
      ],
      "execution_count": 19,
      "outputs": [
        {
          "output_type": "stream",
          "text": [
            "[0.  0.1 0.2 0.3 0.4 0.5 0.6 0.7 0.8 0.9 1. ]\n"
          ],
          "name": "stdout"
        }
      ]
    },
    {
      "cell_type": "code",
      "metadata": {
        "id": "Q-FZlfejt_xH",
        "colab_type": "code",
        "colab": {
          "base_uri": "https://localhost:8080/",
          "height": 204
        },
        "outputId": "63bb1be2-e07d-4ad6-b185-ac286ab96326"
      },
      "source": [
        "A = np.arange(15)\n",
        "print(A)\n",
        "print()\n",
        "B = A.reshape((3, 5))\n",
        "print(B)\n",
        "print()\n",
        "C = A.reshape((5, -1))\n",
        "print(C)"
      ],
      "execution_count": 26,
      "outputs": [
        {
          "output_type": "stream",
          "text": [
            "[ 0  1  2  3  4  5  6  7  8  9 10 11 12 13 14]\n",
            "\n",
            "[[ 0  1  2  3  4]\n",
            " [ 5  6  7  8  9]\n",
            " [10 11 12 13 14]]\n",
            "\n",
            "[[ 0  1  2]\n",
            " [ 3  4  5]\n",
            " [ 6  7  8]\n",
            " [ 9 10 11]\n",
            " [12 13 14]]\n"
          ],
          "name": "stdout"
        }
      ]
    },
    {
      "cell_type": "markdown",
      "metadata": {
        "id": "5xVU-yYmv9cr",
        "colab_type": "text"
      },
      "source": [
        "**Podstawowe operacje na tablicach**"
      ]
    },
    {
      "cell_type": "code",
      "metadata": {
        "id": "fpJzpcmKu2mr",
        "colab_type": "code",
        "colab": {}
      },
      "source": [
        ""
      ],
      "execution_count": null,
      "outputs": []
    }
  ]
}