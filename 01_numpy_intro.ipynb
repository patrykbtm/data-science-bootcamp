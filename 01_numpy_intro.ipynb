{
  "nbformat": 4,
  "nbformat_minor": 0,
  "metadata": {
    "colab": {
      "name": "01_numpy_intro.ipynb",
      "provenance": [],
      "authorship_tag": "ABX9TyM6O2Uj8HSCnQ1Nuonyk1mg",
      "include_colab_link": true
    },
    "kernelspec": {
      "name": "python3",
      "display_name": "Python 3"
    }
  },
  "cells": [
    {
      "cell_type": "markdown",
      "metadata": {
        "id": "view-in-github",
        "colab_type": "text"
      },
      "source": [
        "<a href=\"https://colab.research.google.com/github/patrykbtm/data-science-bootcamp/blob/master/01_numpy_intro.ipynb\" target=\"_parent\"><img src=\"https://colab.research.google.com/assets/colab-badge.svg\" alt=\"Open In Colab\"/></a>"
      ]
    },
    {
      "cell_type": "markdown",
      "metadata": {
        "id": "WCGNeW27AonZ",
        "colab_type": "text"
      },
      "source": [
        "**Podstawy**\n"
      ]
    },
    {
      "cell_type": "code",
      "metadata": {
        "id": "fXp9pYZCAtk8",
        "colab_type": "code",
        "colab": {
          "base_uri": "https://localhost:8080/",
          "height": 35
        },
        "outputId": "6f6be37b-9707-4d6a-9c4a-d7002b2da334"
      },
      "source": [
        "import numpy as np\n",
        "np.__version__"
      ],
      "execution_count": 1,
      "outputs": [
        {
          "output_type": "execute_result",
          "data": {
            "application/vnd.google.colaboratory.intrinsic": {
              "type": "string"
            },
            "text/plain": [
              "'1.18.5'"
            ]
          },
          "metadata": {
            "tags": []
          },
          "execution_count": 1
        }
      ]
    },
    {
      "cell_type": "markdown",
      "metadata": {
        "id": "IusG2vKhAoMt",
        "colab_type": "text"
      },
      "source": [
        ""
      ]
    },
    {
      "cell_type": "code",
      "metadata": {
        "id": "HVXNcUv2A7A_",
        "colab_type": "code",
        "colab": {}
      },
      "source": [
        "print(dir(np))"
      ],
      "execution_count": null,
      "outputs": []
    },
    {
      "cell_type": "code",
      "metadata": {
        "id": "Tqmzck7sA9oQ",
        "colab_type": "code",
        "colab": {}
      },
      "source": [
        "help(np.array)"
      ],
      "execution_count": null,
      "outputs": []
    },
    {
      "cell_type": "markdown",
      "metadata": {
        "id": "J0rK2twdBhNF",
        "colab_type": "text"
      },
      "source": [
        "**1D Array**"
      ]
    },
    {
      "cell_type": "code",
      "metadata": {
        "id": "2MpqqfY0BeK2",
        "colab_type": "code",
        "colab": {
          "base_uri": "https://localhost:8080/",
          "height": 34
        },
        "outputId": "9aa3cabe-1b61-4b67-b980-71381f9e8256"
      },
      "source": [
        ""
      ],
      "execution_count": 5,
      "outputs": [
        {
          "output_type": "stream",
          "text": [
            "[1 2 3 4 5]\n"
          ],
          "name": "stdout"
        }
      ]
    },
    {
      "cell_type": "code",
      "metadata": {
        "id": "kM9VJn_qBymO",
        "colab_type": "code",
        "colab": {
          "base_uri": "https://localhost:8080/",
          "height": 119
        },
        "outputId": "797e6792-9836-4ba0-c66e-49cf6cf63d1d"
      },
      "source": [
        "x = np.array([1, 2, 3, 4, 5])\n",
        "print(x)\n",
        "\n",
        "print(type(x))\n",
        "\n",
        "print(\"x.ndim: \", x.ndim)\n",
        "print(\"x.shape: \", x.shape)\n",
        "print(\"x.size: \", x.size)\n",
        "print(\"x.dtype: \", x.dtype)"
      ],
      "execution_count": 14,
      "outputs": [
        {
          "output_type": "stream",
          "text": [
            "[1 2 3 4 5]\n",
            "<class 'numpy.ndarray'>\n",
            "x.ndim:  1\n",
            "x.shape:  (5,)\n",
            "x.size:  5\n",
            "x.dtype:  int64\n"
          ],
          "name": "stdout"
        }
      ]
    },
    {
      "cell_type": "code",
      "metadata": {
        "id": "YJAC5n_CB1CW",
        "colab_type": "code",
        "colab": {
          "base_uri": "https://localhost:8080/",
          "height": 119
        },
        "outputId": "2ec6f9ba-6b08-4975-b91f-8e3bfe49f0f2"
      },
      "source": [
        "y = np.array([1.4, 2.3, 3.1])\n",
        "print(y)\n",
        "\n",
        "print(type(y))\n",
        "\n",
        "print(\"y.ndim: \", y.ndim)\n",
        "print(\"y.shape: \", y.shape)\n",
        "print(\"y.size: \", y.size)\n",
        "print(\"y.dtype: \", y.dtype)"
      ],
      "execution_count": 15,
      "outputs": [
        {
          "output_type": "stream",
          "text": [
            "[1.4 2.3 3.1]\n",
            "<class 'numpy.ndarray'>\n",
            "y.ndim:  1\n",
            "y.shape:  (3,)\n",
            "y.size:  3\n",
            "y.dtype:  float64\n"
          ],
          "name": "stdout"
        }
      ]
    },
    {
      "cell_type": "markdown",
      "metadata": {
        "id": "bxm7v0sjC1JS",
        "colab_type": "text"
      },
      "source": [
        "**2D Array**"
      ]
    },
    {
      "cell_type": "code",
      "metadata": {
        "id": "MOfx6sHYB72W",
        "colab_type": "code",
        "colab": {
          "base_uri": "https://localhost:8080/",
          "height": 136
        },
        "outputId": "21d5fe31-eea1-4261-c73a-a22952dbddea"
      },
      "source": [
        "z = np.array([[1, 2], [-3, 1]])\n",
        "print(z)\n",
        "\n",
        "print(type(z))\n",
        "\n",
        "print(\"z.ndim: \", z.ndim)\n",
        "print(\"z.shape: \", z.shape)\n",
        "print(\"z.size: \", z.size)\n",
        "print(\"z.dtype: \", z.dtype)"
      ],
      "execution_count": 17,
      "outputs": [
        {
          "output_type": "stream",
          "text": [
            "[[ 1  2]\n",
            " [-3  1]]\n",
            "<class 'numpy.ndarray'>\n",
            "z.ndim:  2\n",
            "z.shape:  (2, 2)\n",
            "z.size:  4\n",
            "z.dtype:  int64\n"
          ],
          "name": "stdout"
        }
      ]
    },
    {
      "cell_type": "markdown",
      "metadata": {
        "id": "6YPVhb-dDvQZ",
        "colab_type": "text"
      },
      "source": [
        "**3D Array**"
      ]
    },
    {
      "cell_type": "code",
      "metadata": {
        "id": "OeyNC5ADDPYc",
        "colab_type": "code",
        "colab": {
          "base_uri": "https://localhost:8080/",
          "height": 187
        },
        "outputId": "65c0860e-6f96-4cd7-a9c5-bc6c0ce45dfa"
      },
      "source": [
        "a3D =  np.array([\n",
        "                 [[4,3,1],\n",
        "                  [3,2,1]],\n",
        "                 \n",
        "                 [[4,3,2],\n",
        "                  [5,3,1]],\n",
        "                 \n",
        "                 [[4,1,5],\n",
        "                  [6,4,2]]\n",
        "])\n",
        "\n",
        "print(a3D)\n",
        "print(a3D.ndim)\n",
        "print(a3D.shape)"
      ],
      "execution_count": 21,
      "outputs": [
        {
          "output_type": "stream",
          "text": [
            "[[[4 3 1]\n",
            "  [3 2 1]]\n",
            "\n",
            " [[4 3 2]\n",
            "  [5 3 1]]\n",
            "\n",
            " [[4 1 5]\n",
            "  [6 4 2]]]\n",
            "3\n",
            "(3, 2, 3)\n"
          ],
          "name": "stdout"
        }
      ]
    },
    {
      "cell_type": "code",
      "metadata": {
        "id": "x2j1YWMPEuhW",
        "colab_type": "code",
        "colab": {}
      },
      "source": [
        ""
      ],
      "execution_count": null,
      "outputs": []
    }
  ]
}