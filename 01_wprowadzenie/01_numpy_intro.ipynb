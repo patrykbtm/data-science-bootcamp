{
  "nbformat": 4,
  "nbformat_minor": 0,
  "metadata": {
    "colab": {
      "name": "01_numpy_intro.ipynb",
      "provenance": [],
      "collapsed_sections": [],
      "authorship_tag": "ABX9TyMimP5fKyPKD+m3gim+qzMC",
      "include_colab_link": true
    },
    "kernelspec": {
      "name": "python3",
      "display_name": "Python 3"
    }
  },
  "cells": [
    {
      "cell_type": "markdown",
      "metadata": {
        "id": "view-in-github",
        "colab_type": "text"
      },
      "source": [
        "<a href=\"https://colab.research.google.com/github/patrykbtm/data-science-bootcamp/blob/master/01_wprowadzenie/01_numpy_intro.ipynb\" target=\"_parent\"><img src=\"https://colab.research.google.com/assets/colab-badge.svg\" alt=\"Open In Colab\"/></a>"
      ]
    },
    {
      "cell_type": "markdown",
      "metadata": {
        "id": "WCGNeW27AonZ",
        "colab_type": "text"
      },
      "source": [
        "**Podstawy**\n"
      ]
    },
    {
      "cell_type": "code",
      "metadata": {
        "id": "fXp9pYZCAtk8",
        "colab_type": "code",
        "colab": {
          "base_uri": "https://localhost:8080/",
          "height": 34
        },
        "outputId": "3394a52e-29e1-4638-d59c-80719167f7b6"
      },
      "source": [
        "import numpy as np\n",
        "np.__version__"
      ],
      "execution_count": 2,
      "outputs": [
        {
          "output_type": "execute_result",
          "data": {
            "application/vnd.google.colaboratory.intrinsic+json": {
              "type": "string"
            },
            "text/plain": [
              "'1.18.5'"
            ]
          },
          "metadata": {
            "tags": []
          },
          "execution_count": 2
        }
      ]
    },
    {
      "cell_type": "markdown",
      "metadata": {
        "id": "IusG2vKhAoMt",
        "colab_type": "text"
      },
      "source": [
        ""
      ]
    },
    {
      "cell_type": "code",
      "metadata": {
        "id": "HVXNcUv2A7A_",
        "colab_type": "code",
        "colab": {}
      },
      "source": [
        "print(dir(np))"
      ],
      "execution_count": null,
      "outputs": []
    },
    {
      "cell_type": "code",
      "metadata": {
        "id": "Tqmzck7sA9oQ",
        "colab_type": "code",
        "colab": {}
      },
      "source": [
        "help(np.array)"
      ],
      "execution_count": null,
      "outputs": []
    },
    {
      "cell_type": "markdown",
      "metadata": {
        "id": "J0rK2twdBhNF",
        "colab_type": "text"
      },
      "source": [
        "**1D Array**"
      ]
    },
    {
      "cell_type": "code",
      "metadata": {
        "id": "2MpqqfY0BeK2",
        "colab_type": "code",
        "colab": {
          "base_uri": "https://localhost:8080/",
          "height": 34
        },
        "outputId": "9aa3cabe-1b61-4b67-b980-71381f9e8256"
      },
      "source": [
        ""
      ],
      "execution_count": 5,
      "outputs": [
        {
          "output_type": "stream",
          "text": [
            "[1 2 3 4 5]\n"
          ],
          "name": "stdout"
        }
      ]
    },
    {
      "cell_type": "code",
      "metadata": {
        "id": "kM9VJn_qBymO",
        "colab_type": "code",
        "colab": {
          "base_uri": "https://localhost:8080/",
          "height": 119
        },
        "outputId": "797e6792-9836-4ba0-c66e-49cf6cf63d1d"
      },
      "source": [
        "x = np.array([1, 2, 3, 4, 5])\n",
        "print(x)\n",
        "\n",
        "print(type(x))\n",
        "\n",
        "print(\"x.ndim: \", x.ndim)\n",
        "print(\"x.shape: \", x.shape)\n",
        "print(\"x.size: \", x.size)\n",
        "print(\"x.dtype: \", x.dtype)"
      ],
      "execution_count": 14,
      "outputs": [
        {
          "output_type": "stream",
          "text": [
            "[1 2 3 4 5]\n",
            "<class 'numpy.ndarray'>\n",
            "x.ndim:  1\n",
            "x.shape:  (5,)\n",
            "x.size:  5\n",
            "x.dtype:  int64\n"
          ],
          "name": "stdout"
        }
      ]
    },
    {
      "cell_type": "code",
      "metadata": {
        "id": "YJAC5n_CB1CW",
        "colab_type": "code",
        "colab": {
          "base_uri": "https://localhost:8080/",
          "height": 119
        },
        "outputId": "2ec6f9ba-6b08-4975-b91f-8e3bfe49f0f2"
      },
      "source": [
        "y = np.array([1.4, 2.3, 3.1])\n",
        "print(y)\n",
        "\n",
        "print(type(y))\n",
        "\n",
        "print(\"y.ndim: \", y.ndim)\n",
        "print(\"y.shape: \", y.shape)\n",
        "print(\"y.size: \", y.size)\n",
        "print(\"y.dtype: \", y.dtype)"
      ],
      "execution_count": 15,
      "outputs": [
        {
          "output_type": "stream",
          "text": [
            "[1.4 2.3 3.1]\n",
            "<class 'numpy.ndarray'>\n",
            "y.ndim:  1\n",
            "y.shape:  (3,)\n",
            "y.size:  3\n",
            "y.dtype:  float64\n"
          ],
          "name": "stdout"
        }
      ]
    },
    {
      "cell_type": "markdown",
      "metadata": {
        "id": "bxm7v0sjC1JS",
        "colab_type": "text"
      },
      "source": [
        "**2D Array**"
      ]
    },
    {
      "cell_type": "code",
      "metadata": {
        "id": "MOfx6sHYB72W",
        "colab_type": "code",
        "colab": {
          "base_uri": "https://localhost:8080/",
          "height": 136
        },
        "outputId": "21d5fe31-eea1-4261-c73a-a22952dbddea"
      },
      "source": [
        "z = np.array([[1, 2], [-3, 1]])\n",
        "print(z)\n",
        "\n",
        "print(type(z))\n",
        "\n",
        "print(\"z.ndim: \", z.ndim)\n",
        "print(\"z.shape: \", z.shape)\n",
        "print(\"z.size: \", z.size)\n",
        "print(\"z.dtype: \", z.dtype)"
      ],
      "execution_count": 17,
      "outputs": [
        {
          "output_type": "stream",
          "text": [
            "[[ 1  2]\n",
            " [-3  1]]\n",
            "<class 'numpy.ndarray'>\n",
            "z.ndim:  2\n",
            "z.shape:  (2, 2)\n",
            "z.size:  4\n",
            "z.dtype:  int64\n"
          ],
          "name": "stdout"
        }
      ]
    },
    {
      "cell_type": "markdown",
      "metadata": {
        "id": "6YPVhb-dDvQZ",
        "colab_type": "text"
      },
      "source": [
        "**3D Array**"
      ]
    },
    {
      "cell_type": "code",
      "metadata": {
        "id": "OeyNC5ADDPYc",
        "colab_type": "code",
        "colab": {
          "base_uri": "https://localhost:8080/",
          "height": 187
        },
        "outputId": "65c0860e-6f96-4cd7-a9c5-bc6c0ce45dfa"
      },
      "source": [
        "a3D =  np.array([\n",
        "                 [[4,3,1],\n",
        "                  [3,2,1]],\n",
        "                 \n",
        "                 [[4,3,2],\n",
        "                  [5,3,1]],\n",
        "                 \n",
        "                 [[4,1,5],\n",
        "                  [6,4,2]]\n",
        "])\n",
        "\n",
        "print(a3D)\n",
        "print(a3D.ndim)\n",
        "print(a3D.shape)"
      ],
      "execution_count": 21,
      "outputs": [
        {
          "output_type": "stream",
          "text": [
            "[[[4 3 1]\n",
            "  [3 2 1]]\n",
            "\n",
            " [[4 3 2]\n",
            "  [5 3 1]]\n",
            "\n",
            " [[4 1 5]\n",
            "  [6 4 2]]]\n",
            "3\n",
            "(3, 2, 3)\n"
          ],
          "name": "stdout"
        }
      ]
    },
    {
      "cell_type": "markdown",
      "metadata": {
        "id": "nBUYhZgKi20O",
        "colab_type": "text"
      },
      "source": [
        "**Tablice - Typy danych**"
      ]
    },
    {
      "cell_type": "code",
      "metadata": {
        "id": "x2j1YWMPEuhW",
        "colab_type": "code",
        "colab": {
          "base_uri": "https://localhost:8080/",
          "height": 119
        },
        "outputId": "befad40f-6c8a-42b6-e7e8-9073930b2020"
      },
      "source": [
        "tabInt = np.array([2,4,5])\n",
        "print(tabInt)\n",
        "print(tabInt.dtype)\n",
        "\n",
        "tabInt = np.array([1, 4.3, 5.7], dtype = 'int64')\n",
        "print(tabInt)\n",
        "print(tabInt.dtype)\n",
        "\n",
        "tabFloat = np.array([1.4, 4,2])\n",
        "print(tabFloat)\n",
        "print(tabFloat.dtype)"
      ],
      "execution_count": 9,
      "outputs": [
        {
          "output_type": "stream",
          "text": [
            "[2 4 5]\n",
            "int64\n",
            "[1 4 5]\n",
            "int64\n",
            "[1.4 4.  2. ]\n",
            "float64\n"
          ],
          "name": "stdout"
        }
      ]
    },
    {
      "cell_type": "markdown",
      "metadata": {
        "id": "CWAMDyX8kgG-",
        "colab_type": "text"
      },
      "source": [
        "**Tworzenie tablic**"
      ]
    },
    {
      "cell_type": "code",
      "metadata": {
        "id": "t0RYLh0bjDxg",
        "colab_type": "code",
        "colab": {
          "base_uri": "https://localhost:8080/",
          "height": 85
        },
        "outputId": "08153db1-f072-4d85-834e-3865b494a942"
      },
      "source": [
        "tabZeros = np.zeros(shape = [4, 10])\n",
        "print(tabZeros)"
      ],
      "execution_count": 10,
      "outputs": [
        {
          "output_type": "stream",
          "text": [
            "[[0. 0. 0. 0. 0. 0. 0. 0. 0. 0.]\n",
            " [0. 0. 0. 0. 0. 0. 0. 0. 0. 0.]\n",
            " [0. 0. 0. 0. 0. 0. 0. 0. 0. 0.]\n",
            " [0. 0. 0. 0. 0. 0. 0. 0. 0. 0.]]\n"
          ],
          "name": "stdout"
        }
      ]
    },
    {
      "cell_type": "code",
      "metadata": {
        "id": "MWpwBQatkuM6",
        "colab_type": "code",
        "colab": {
          "base_uri": "https://localhost:8080/",
          "height": 119
        },
        "outputId": "454ebcf6-bb45-4464-e2f7-30e3c85f01f3"
      },
      "source": [
        "tabOnes = np.ones(shape = [5,5], dtype = 'int64')\n",
        "print(tabOnes)\n",
        "print(tabOnes.dtype)"
      ],
      "execution_count": 11,
      "outputs": [
        {
          "output_type": "stream",
          "text": [
            "[[1 1 1 1 1]\n",
            " [1 1 1 1 1]\n",
            " [1 1 1 1 1]\n",
            " [1 1 1 1 1]\n",
            " [1 1 1 1 1]]\n",
            "int64\n"
          ],
          "name": "stdout"
        }
      ]
    },
    {
      "cell_type": "code",
      "metadata": {
        "id": "uzVnc2COoDJn",
        "colab_type": "code",
        "colab": {
          "base_uri": "https://localhost:8080/",
          "height": 85
        },
        "outputId": "8b1ab416-f657-4e4d-a3b7-9cf01823c5e6"
      },
      "source": [
        "tabFull = np.full(shape = [3,3], fill_value= 5)\n",
        "print(tabFull)\n",
        "print(tabFull.dtype)"
      ],
      "execution_count": 13,
      "outputs": [
        {
          "output_type": "stream",
          "text": [
            "[[5 5 5]\n",
            " [5 5 5]\n",
            " [5 5 5]]\n",
            "int64\n"
          ],
          "name": "stdout"
        }
      ]
    },
    {
      "cell_type": "code",
      "metadata": {
        "id": "6OdoukFGoLoH",
        "colab_type": "code",
        "colab": {
          "base_uri": "https://localhost:8080/",
          "height": 34
        },
        "outputId": "ad5c7342-b824-4c84-9e7e-bcdae8272b73"
      },
      "source": [
        "tabArange10 = np.arange(10)\n",
        "print(tabArange10)"
      ],
      "execution_count": 15,
      "outputs": [
        {
          "output_type": "stream",
          "text": [
            "[0 1 2 3 4 5 6 7 8 9]\n"
          ],
          "name": "stdout"
        }
      ]
    },
    {
      "cell_type": "code",
      "metadata": {
        "id": "QaU9dmerosSP",
        "colab_type": "code",
        "colab": {
          "base_uri": "https://localhost:8080/",
          "height": 34
        },
        "outputId": "f2be1a86-1a09-4ccf-80bf-e676c237eeaf"
      },
      "source": [
        "tabArange5_9 = np.arange(start = 5, stop = 10)\n",
        "print(tabArange5_9)"
      ],
      "execution_count": 16,
      "outputs": [
        {
          "output_type": "stream",
          "text": [
            "[5 6 7 8 9]\n"
          ],
          "name": "stdout"
        }
      ]
    },
    {
      "cell_type": "code",
      "metadata": {
        "id": "ixkX_zO_pDLn",
        "colab_type": "code",
        "colab": {
          "base_uri": "https://localhost:8080/",
          "height": 34
        },
        "outputId": "6e6712cb-1ee2-4bea-b540-8137ac2ccb1c"
      },
      "source": [
        "tabArange10_90 = np.arange(start = 10, stop = 91, step = 10)\n",
        "print(tabArange10_90)"
      ],
      "execution_count": 17,
      "outputs": [
        {
          "output_type": "stream",
          "text": [
            "[10 20 30 40 50 60 70 80 90]\n"
          ],
          "name": "stdout"
        }
      ]
    },
    {
      "cell_type": "code",
      "metadata": {
        "id": "6-bu2HLXpSLH",
        "colab_type": "code",
        "colab": {
          "base_uri": "https://localhost:8080/",
          "height": 34
        },
        "outputId": "81608c9f-e765-4d05-fa2b-dbe9b0f14ffe"
      },
      "source": [
        "tabArange100_20 = np.arange(start = 100, stop = 10, step = -10)\n",
        "print(tabArange100_20)"
      ],
      "execution_count": 18,
      "outputs": [
        {
          "output_type": "stream",
          "text": [
            "[100  90  80  70  60  50  40  30  20]\n"
          ],
          "name": "stdout"
        }
      ]
    },
    {
      "cell_type": "code",
      "metadata": {
        "id": "Wr9cLxUOpcYQ",
        "colab_type": "code",
        "colab": {
          "base_uri": "https://localhost:8080/",
          "height": 34
        },
        "outputId": "16e3cef1-a8a9-4ab0-8238-9fc32dbf8fe6"
      },
      "source": [
        "tabLinspace0_1 = np.linspace(start = 0, stop = 1, num=11)\n",
        "print(tabLinspace0_1)"
      ],
      "execution_count": 19,
      "outputs": [
        {
          "output_type": "stream",
          "text": [
            "[0.  0.1 0.2 0.3 0.4 0.5 0.6 0.7 0.8 0.9 1. ]\n"
          ],
          "name": "stdout"
        }
      ]
    },
    {
      "cell_type": "code",
      "metadata": {
        "id": "Q-FZlfejt_xH",
        "colab_type": "code",
        "colab": {
          "base_uri": "https://localhost:8080/",
          "height": 204
        },
        "outputId": "63bb1be2-e07d-4ad6-b185-ac286ab96326"
      },
      "source": [
        "A = np.arange(15)\n",
        "print(A)\n",
        "print()\n",
        "B = A.reshape((3, 5))\n",
        "print(B)\n",
        "print()\n",
        "C = A.reshape((5, -1))\n",
        "print(C)"
      ],
      "execution_count": 26,
      "outputs": [
        {
          "output_type": "stream",
          "text": [
            "[ 0  1  2  3  4  5  6  7  8  9 10 11 12 13 14]\n",
            "\n",
            "[[ 0  1  2  3  4]\n",
            " [ 5  6  7  8  9]\n",
            " [10 11 12 13 14]]\n",
            "\n",
            "[[ 0  1  2]\n",
            " [ 3  4  5]\n",
            " [ 6  7  8]\n",
            " [ 9 10 11]\n",
            " [12 13 14]]\n"
          ],
          "name": "stdout"
        }
      ]
    },
    {
      "cell_type": "markdown",
      "metadata": {
        "id": "5xVU-yYmv9cr",
        "colab_type": "text"
      },
      "source": [
        "**Podstawowe operacje na tablicach**"
      ]
    },
    {
      "cell_type": "code",
      "metadata": {
        "id": "fpJzpcmKu2mr",
        "colab_type": "code",
        "colab": {
          "base_uri": "https://localhost:8080/",
          "height": 51
        },
        "outputId": "58b9fa0f-6923-4194-f00d-7b4d80f048aa"
      },
      "source": [
        "A = np.array([3 , 1, 4, 2])\n",
        "B = np.array([3, -1 ,3, 2])\n",
        "print(A)\n",
        "print(B)"
      ],
      "execution_count": 27,
      "outputs": [
        {
          "output_type": "stream",
          "text": [
            "[3 1 4 2]\n",
            "[ 3 -1  3  2]\n"
          ],
          "name": "stdout"
        }
      ]
    },
    {
      "cell_type": "code",
      "metadata": {
        "id": "CI_yrXkY0fXN",
        "colab_type": "code",
        "colab": {
          "base_uri": "https://localhost:8080/",
          "height": 119
        },
        "outputId": "699b68a3-f0bf-4d85-e436-5467a8006695"
      },
      "source": [
        "print(\"A + B: \", A + B)\n",
        "print(\"A - B:\", A - B)\n",
        "print(\"A * B: \", A * B)\n",
        "print(\"A / B:\", A / B)\n",
        "print(\"A + 3\", A + 3)\n",
        "print(\"A * 2\", A * 2)"
      ],
      "execution_count": 34,
      "outputs": [
        {
          "output_type": "stream",
          "text": [
            "A + B:  [6 0 7 4]\n",
            "A - B: [0 2 1 0]\n",
            "A * B:  [ 9 -1 12  4]\n",
            "A / B: [ 1.         -1.          1.33333333  1.        ]\n",
            "A + 3 [6 4 7 5]\n",
            "A * 2 [6 2 8 4]\n"
          ],
          "name": "stdout"
        }
      ]
    },
    {
      "cell_type": "code",
      "metadata": {
        "id": "9P2UyWwm1taC",
        "colab_type": "code",
        "colab": {
          "base_uri": "https://localhost:8080/",
          "height": 85
        },
        "outputId": "baee4185-8cbf-4963-bb9b-7b115da2a4cb"
      },
      "source": [
        "print(np.add(A, B))\n",
        "print(np.subtract(A, B))\n",
        "print(np.multiply(A,B))\n",
        "print(np.divide(A, B))"
      ],
      "execution_count": 36,
      "outputs": [
        {
          "output_type": "stream",
          "text": [
            "[6 0 7 4]\n",
            "[0 2 1 0]\n",
            "[ 9 -1 12  4]\n",
            "[ 1.         -1.          1.33333333  1.        ]\n"
          ],
          "name": "stdout"
        }
      ]
    },
    {
      "cell_type": "code",
      "metadata": {
        "id": "PLUnAPih2nLW",
        "colab_type": "code",
        "colab": {
          "base_uri": "https://localhost:8080/",
          "height": 289
        },
        "outputId": "e579d1c1-6c03-4fa1-8ea2-dab695bdea7f"
      },
      "source": [
        "X = np.array([[1, 3], [-2, 0]])\n",
        "Y = np.array([[6, 0], [-1, -2]])\n",
        "\n",
        "print(\"X\\n\",X)\n",
        "print(\"Y\\n\",Y)\n",
        "\n",
        "print(\"X * Y\\n\", np.dot(X, Y))\n",
        "print(\"Y * X\\n\", Y.dot(X))\n",
        "\n",
        "print(\"Lub\\nY * X\\n\", Y @ X)"
      ],
      "execution_count": 6,
      "outputs": [
        {
          "output_type": "stream",
          "text": [
            "X\n",
            " [[ 1  3]\n",
            " [-2  0]]\n",
            "Y\n",
            " [[ 6  0]\n",
            " [-1 -2]]\n",
            "X * Y\n",
            " [[  3  -6]\n",
            " [-12   0]]\n",
            "Y * X\n",
            " [[ 6 18]\n",
            " [ 3 -3]]\n",
            "Lub\n",
            "Y * X\n",
            " [[ 6 18]\n",
            " [ 3 -3]]\n"
          ],
          "name": "stdout"
        }
      ]
    },
    {
      "cell_type": "markdown",
      "metadata": {
        "id": "5a0isHK6HSeR",
        "colab_type": "text"
      },
      "source": [
        "**Generowanie liczb pseudolosowych**\n"
      ]
    },
    {
      "cell_type": "code",
      "metadata": {
        "id": "_jGePUHC3s89",
        "colab_type": "code",
        "colab": {
          "base_uri": "https://localhost:8080/",
          "height": 697
        },
        "outputId": "49214396-1b06-41c6-b02d-14c2a196fd18"
      },
      "source": [
        "np.random.seed(0)\n",
        "print(\"ROZKŁAD NORMALNY\\n\")\n",
        "print(np.random.randn())\n",
        "print(\"\\n\",np.random.randn(10))\n",
        "print(\"\\n\",np.random.randn(10,4))\n",
        "\n",
        "print(\"\\nLosowanie z zakresu <0;1)\")\n",
        "print(np.random.rand(10,4))\n",
        "\n",
        "print(\"\\nLosowanie z zakresu <min;max)\")\n",
        "print(np.random.randint(low = 10, high=101, size = 10))\n",
        "\n",
        "print(\"\\nWybór losowego elemenu z listy\")\n",
        "print(np.random.choice([4,2,5,1,77,45,3,22]))\n",
        "print(np.random.choice(['python', 'java', 'c#']))\n",
        "\n",
        "print(\"\\nTasowanie zbioru\")\n",
        "data = np.arange(10)\n",
        "print(data)\n",
        "np.random.shuffle(data)\n",
        "print(data)"
      ],
      "execution_count": 23,
      "outputs": [
        {
          "output_type": "stream",
          "text": [
            "ROZKŁAD NORMALNY\n",
            "\n",
            "1.764052345967664\n",
            "\n",
            " [ 0.40015721  0.97873798  2.2408932   1.86755799 -0.97727788  0.95008842\n",
            " -0.15135721 -0.10321885  0.4105985   0.14404357]\n",
            "\n",
            " [[ 1.45427351  0.76103773  0.12167502  0.44386323]\n",
            " [ 0.33367433  1.49407907 -0.20515826  0.3130677 ]\n",
            " [-0.85409574 -2.55298982  0.6536186   0.8644362 ]\n",
            " [-0.74216502  2.26975462 -1.45436567  0.04575852]\n",
            " [-0.18718385  1.53277921  1.46935877  0.15494743]\n",
            " [ 0.37816252 -0.88778575 -1.98079647 -0.34791215]\n",
            " [ 0.15634897  1.23029068  1.20237985 -0.38732682]\n",
            " [-0.30230275 -1.04855297 -1.42001794 -1.70627019]\n",
            " [ 1.9507754  -0.50965218 -0.4380743  -1.25279536]\n",
            " [ 0.77749036 -1.61389785 -0.21274028 -0.89546656]]\n",
            "\n",
            "Losowanie z zakresu <0;1)\n",
            "[[0.19658236 0.36872517 0.82099323 0.09710128]\n",
            " [0.83794491 0.09609841 0.97645947 0.4686512 ]\n",
            " [0.97676109 0.60484552 0.73926358 0.03918779]\n",
            " [0.28280696 0.12019656 0.2961402  0.11872772]\n",
            " [0.31798318 0.41426299 0.0641475  0.69247212]\n",
            " [0.56660145 0.26538949 0.52324805 0.09394051]\n",
            " [0.5759465  0.9292962  0.31856895 0.66741038]\n",
            " [0.13179786 0.7163272  0.28940609 0.18319136]\n",
            " [0.58651293 0.02010755 0.82894003 0.00469548]\n",
            " [0.67781654 0.27000797 0.73519402 0.96218855]]\n",
            "\n",
            "Losowanie z zakresu <min;max)\n",
            "[50 82 29 82 36 76 62 77 71 24]\n",
            "\n",
            "Wybór losowego elemenu z listy\n",
            "4\n",
            "python\n",
            "\n",
            "Tasowanie zbioru\n",
            "[0 1 2 3 4 5 6 7 8 9]\n",
            "[8 2 4 0 9 7 1 5 6 3]\n"
          ],
          "name": "stdout"
        }
      ]
    },
    {
      "cell_type": "markdown",
      "metadata": {
        "id": "RY_xmawTJq-9",
        "colab_type": "text"
      },
      "source": [
        "**Podstawowe funkcje dostepne w bibliotece NumPy**\n"
      ]
    },
    {
      "cell_type": "code",
      "metadata": {
        "id": "nWfK02YlHnNu",
        "colab_type": "code",
        "colab": {
          "base_uri": "https://localhost:8080/",
          "height": 51
        },
        "outputId": "b632d3c7-7b70-4064-e087-8f18cee8d630"
      },
      "source": [
        "print(\"Exp z 1:\", np.exp(1))\n",
        "print(\"Pierwiastek z 25: \", np.sqrt(25))"
      ],
      "execution_count": 27,
      "outputs": [
        {
          "output_type": "stream",
          "text": [
            "Exp z 1: 2.718281828459045\n",
            "Pierwiastek z 25:  5.0\n"
          ],
          "name": "stdout"
        }
      ]
    },
    {
      "cell_type": "code",
      "metadata": {
        "id": "Qu1A5rd8J6TW",
        "colab_type": "code",
        "colab": {
          "base_uri": "https://localhost:8080/",
          "height": 85
        },
        "outputId": "8b1f3dee-81a0-49a3-80f8-a31e2a54c539"
      },
      "source": [
        "print(np.all([2,3,4]))\n",
        "print(np.all([2,3,0]))\n",
        "\n",
        "print(np.any([2,3,0]))\n",
        "print(np.any([0,0,0]))\n"
      ],
      "execution_count": 32,
      "outputs": [
        {
          "output_type": "stream",
          "text": [
            "True\n",
            "False\n",
            "True\n",
            "False\n"
          ],
          "name": "stdout"
        }
      ]
    },
    {
      "cell_type": "code",
      "metadata": {
        "id": "RJ75twFZKP3g",
        "colab_type": "code",
        "colab": {
          "base_uri": "https://localhost:8080/",
          "height": 204
        },
        "outputId": "f2ed0531-0c7e-4bff-d83a-397a067eba3c"
      },
      "source": [
        "A = np.random.rand(5)\n",
        "print(A)\n",
        "\n",
        "print(\"Indeks max wartości: \", np.argmax(A))\n",
        "print(\"Max wartość: \", A[np.argmax(A)])\n",
        "print(A.max())\n",
        "\n",
        "print(\"Indeks min wartości: \", np.argmin(A))\n",
        "print(\"Min wartość: \", A[np.argmin(A)])\n",
        "print(A.min())\n",
        "\n",
        "print(\"Sortowanie indeksów wg wartości \", np.argsort(A))\n",
        "\n",
        "print(\"Srednia elementów: \", np.mean(A))\n",
        "print(\"Mediana:  \", np.median(A))\n",
        "print(\"Odchylenie standardowe: \", np.std(A))"
      ],
      "execution_count": 43,
      "outputs": [
        {
          "output_type": "stream",
          "text": [
            "[0.33940382 0.48954894 0.33898512 0.17949026 0.1709866 ]\n",
            "Indeks max wartości:  1\n",
            "Max wartość:  0.4895489368910937\n",
            "0.4895489368910937\n",
            "Indeks min wartości:  4\n",
            "Min wartość:  0.17098659868313149\n",
            "0.17098659868313149\n",
            "Sortowanie indeksów wg wartości  [4 3 2 0 1]\n",
            "Srednia elementów:  0.3036829465442755\n",
            "Mediana:   0.3389851167797783\n",
            "Odchylenie standardowe:  0.11840653212626484\n"
          ],
          "name": "stdout"
        }
      ]
    },
    {
      "cell_type": "markdown",
      "metadata": {
        "id": "ulJo2JB_L2Gd",
        "colab_type": "text"
      },
      "source": [
        "**Indeksowanie, wycinanie**"
      ]
    },
    {
      "cell_type": "code",
      "metadata": {
        "id": "JRJuuJdeKlSN",
        "colab_type": "code",
        "colab": {
          "base_uri": "https://localhost:8080/",
          "height": 306
        },
        "outputId": "975a483c-2a9a-4090-f0b7-27927710aa53"
      },
      "source": [
        "A = np.arange(20)\n",
        "print(A)\n",
        "\n",
        "print(A[2])\n",
        "print(A[2:])\n",
        "print(A[:2])\n",
        "print(A[[0, 2]])\n",
        "print(A[-1])\n",
        "print(A[10:15])\n",
        "\n",
        "A = A.reshape(4,-1)\n",
        "print(A)\n",
        "\n",
        "print(\"W1: \", A[0])\n",
        "print(\"W2: \", A[1])\n",
        "\n",
        "print(\"K2: \", A[:,1])\n",
        "print(\"Element W2-K2: \", A[1,1])\n",
        "\n",
        "print(A[1:3, 1:4])"
      ],
      "execution_count": 58,
      "outputs": [
        {
          "output_type": "stream",
          "text": [
            "[ 0  1  2  3  4  5  6  7  8  9 10 11 12 13 14 15 16 17 18 19]\n",
            "2\n",
            "[ 2  3  4  5  6  7  8  9 10 11 12 13 14 15 16 17 18 19]\n",
            "[0 1]\n",
            "[0 2]\n",
            "19\n",
            "[10 11 12 13 14]\n",
            "[[ 0  1  2  3  4]\n",
            " [ 5  6  7  8  9]\n",
            " [10 11 12 13 14]\n",
            " [15 16 17 18 19]]\n",
            "W1:  [0 1 2 3 4]\n",
            "W2:  [5 6 7 8 9]\n",
            "K2:  [ 1  6 11 16]\n",
            "Element W2-K2:  6\n",
            "[[ 6  7  8]\n",
            " [11 12 13]]\n"
          ],
          "name": "stdout"
        }
      ]
    },
    {
      "cell_type": "markdown",
      "metadata": {
        "id": "uteiX71qN3uZ",
        "colab_type": "text"
      },
      "source": [
        "**Iteracja po tablicach**"
      ]
    },
    {
      "cell_type": "code",
      "metadata": {
        "id": "M3BeT9a9L86t",
        "colab_type": "code",
        "colab": {
          "base_uri": "https://localhost:8080/",
          "height": 85
        },
        "outputId": "c9a6ae1a-0251-4006-fb3c-a271083eacb1"
      },
      "source": [
        "RowANum = 1\n",
        "for row in A:\n",
        "  print(\"Wiersz\", RowANum, \":\", row)\n",
        "  RowANum=RowANum+1"
      ],
      "execution_count": 64,
      "outputs": [
        {
          "output_type": "stream",
          "text": [
            "Wiersz 1 : [0 1 2 3 4]\n",
            "Wiersz 2 : [5 6 7 8 9]\n",
            "Wiersz 3 : [10 11 12 13 14]\n",
            "Wiersz 4 : [15 16 17 18 19]\n"
          ],
          "name": "stdout"
        }
      ]
    },
    {
      "cell_type": "code",
      "metadata": {
        "id": "WYkP44tiQsv-",
        "colab_type": "code",
        "colab": {
          "base_uri": "https://localhost:8080/",
          "height": 85
        },
        "outputId": "9d1ed2c1-f239-4156-a1d8-ebeaed51571c"
      },
      "source": [
        "RowANum = 1\n",
        "for row in A:\n",
        "  print(\"Pierwsze 3 el z wiersza\", RowANum, \":\", row[:3])\n",
        "  RowANum=RowANum+1"
      ],
      "execution_count": 67,
      "outputs": [
        {
          "output_type": "stream",
          "text": [
            "Pierwsze 3 el z wiersza 1 : [0 1 2]\n",
            "Pierwsze 3 el z wiersza 2 : [5 6 7]\n",
            "Pierwsze 3 el z wiersza 3 : [10 11 12]\n",
            "Pierwsze 3 el z wiersza 4 : [15 16 17]\n"
          ],
          "name": "stdout"
        }
      ]
    },
    {
      "cell_type": "code",
      "metadata": {
        "id": "7IiWGXNfRAFm",
        "colab_type": "code",
        "colab": {
          "base_uri": "https://localhost:8080/",
          "height": 357
        },
        "outputId": "6930a708-2951-42c3-f947-ca3ea696b6b1"
      },
      "source": [
        "for item in A.flat:\n",
        "  print(item)"
      ],
      "execution_count": 68,
      "outputs": [
        {
          "output_type": "stream",
          "text": [
            "0\n",
            "1\n",
            "2\n",
            "3\n",
            "4\n",
            "5\n",
            "6\n",
            "7\n",
            "8\n",
            "9\n",
            "10\n",
            "11\n",
            "12\n",
            "13\n",
            "14\n",
            "15\n",
            "16\n",
            "17\n",
            "18\n",
            "19\n"
          ],
          "name": "stdout"
        }
      ]
    },
    {
      "cell_type": "markdown",
      "metadata": {
        "id": "4KLJfEwLROIH",
        "colab_type": "text"
      },
      "source": [
        "**Zmiana rozmiaru tablic**"
      ]
    },
    {
      "cell_type": "code",
      "metadata": {
        "id": "TMj9QxoSRMHs",
        "colab_type": "code",
        "colab": {
          "base_uri": "https://localhost:8080/",
          "height": 221
        },
        "outputId": "9103a7b9-1b1d-4553-82ff-97ac5e128651"
      },
      "source": [
        "print(A)\n",
        "print(A.shape)\n",
        "A = A.reshape(5,4)\n",
        "print(A)\n",
        "print(A.shape)"
      ],
      "execution_count": 72,
      "outputs": [
        {
          "output_type": "stream",
          "text": [
            "[[ 0  1  2  3]\n",
            " [ 4  5  6  7]\n",
            " [ 8  9 10 11]\n",
            " [12 13 14 15]\n",
            " [16 17 18 19]]\n",
            "(5, 4)\n",
            "[[ 0  1  2  3]\n",
            " [ 4  5  6  7]\n",
            " [ 8  9 10 11]\n",
            " [12 13 14 15]\n",
            " [16 17 18 19]]\n",
            "(5, 4)\n"
          ],
          "name": "stdout"
        }
      ]
    },
    {
      "cell_type": "code",
      "metadata": {
        "id": "Kz8g7O5FRW5b",
        "colab_type": "code",
        "colab": {
          "base_uri": "https://localhost:8080/",
          "height": 34
        },
        "outputId": "178e64df-a284-45d4-d253-b8f60c1bddd7"
      },
      "source": [
        "print(A.ravel()) #wypłaszczenie tablicy"
      ],
      "execution_count": 73,
      "outputs": [
        {
          "output_type": "stream",
          "text": [
            "[ 0  1  2  3  4  5  6  7  8  9 10 11 12 13 14 15 16 17 18 19]\n"
          ],
          "name": "stdout"
        }
      ]
    },
    {
      "cell_type": "code",
      "metadata": {
        "id": "lpx8MdYYRsE7",
        "colab_type": "code",
        "colab": {
          "base_uri": "https://localhost:8080/",
          "height": 85
        },
        "outputId": "f81fa4d9-ba63-4c68-86ec-9f00f60b1117"
      },
      "source": [
        "print(A.T) #transponowanie tablicy"
      ],
      "execution_count": 75,
      "outputs": [
        {
          "output_type": "stream",
          "text": [
            "[[ 0  4  8 12 16]\n",
            " [ 1  5  9 13 17]\n",
            " [ 2  6 10 14 18]\n",
            " [ 3  7 11 15 19]]\n"
          ],
          "name": "stdout"
        }
      ]
    },
    {
      "cell_type": "markdown",
      "metadata": {
        "id": "QmmBslpzR2N0",
        "colab_type": "text"
      },
      "source": [
        "**Maski logiczne**"
      ]
    },
    {
      "cell_type": "code",
      "metadata": {
        "id": "fwugqcKzRthr",
        "colab_type": "code",
        "colab": {
          "base_uri": "https://localhost:8080/",
          "height": 187
        },
        "outputId": "665e6d4a-1c6f-42bf-9a5f-2382e9b3868c"
      },
      "source": [
        "B = np.arange(start = -10, stop = 10, step = 0.5)\n",
        "B = B.reshape(10, -1)\n",
        "print(B)"
      ],
      "execution_count": 77,
      "outputs": [
        {
          "output_type": "stream",
          "text": [
            "[[-10.   -9.5  -9.   -8.5]\n",
            " [ -8.   -7.5  -7.   -6.5]\n",
            " [ -6.   -5.5  -5.   -4.5]\n",
            " [ -4.   -3.5  -3.   -2.5]\n",
            " [ -2.   -1.5  -1.   -0.5]\n",
            " [  0.    0.5   1.    1.5]\n",
            " [  2.    2.5   3.    3.5]\n",
            " [  4.    4.5   5.    5.5]\n",
            " [  6.    6.5   7.    7.5]\n",
            " [  8.    8.5   9.    9.5]]\n"
          ],
          "name": "stdout"
        }
      ]
    },
    {
      "cell_type": "code",
      "metadata": {
        "id": "vSTFSsgtST_0",
        "colab_type": "code",
        "colab": {
          "base_uri": "https://localhost:8080/",
          "height": 187
        },
        "outputId": "07921c49-e0cf-4212-9d4d-769a550b9378"
      },
      "source": [
        "print(B > 0)"
      ],
      "execution_count": 78,
      "outputs": [
        {
          "output_type": "stream",
          "text": [
            "[[False False False False]\n",
            " [False False False False]\n",
            " [False False False False]\n",
            " [False False False False]\n",
            " [False False False False]\n",
            " [False  True  True  True]\n",
            " [ True  True  True  True]\n",
            " [ True  True  True  True]\n",
            " [ True  True  True  True]\n",
            " [ True  True  True  True]]\n"
          ],
          "name": "stdout"
        }
      ]
    },
    {
      "cell_type": "code",
      "metadata": {
        "id": "X0Lg6uHuSaLj",
        "colab_type": "code",
        "colab": {
          "base_uri": "https://localhost:8080/",
          "height": 51
        },
        "outputId": "b86d32c5-19fd-4f6d-ce48-e6dfca86d4c1"
      },
      "source": [
        "print(B[B>0])"
      ],
      "execution_count": 79,
      "outputs": [
        {
          "output_type": "stream",
          "text": [
            "[0.5 1.  1.5 2.  2.5 3.  3.5 4.  4.5 5.  5.5 6.  6.5 7.  7.5 8.  8.5 9.\n",
            " 9.5]\n"
          ],
          "name": "stdout"
        }
      ]
    },
    {
      "cell_type": "code",
      "metadata": {
        "id": "kjUgg13oSfVT",
        "colab_type": "code",
        "colab": {
          "base_uri": "https://localhost:8080/",
          "height": 187
        },
        "outputId": "e2a502cf-74a5-408c-be42-990321c12edc"
      },
      "source": [
        "print(np.bitwise_and(B > -5, B < 5))"
      ],
      "execution_count": 82,
      "outputs": [
        {
          "output_type": "stream",
          "text": [
            "[[False False False False]\n",
            " [False False False False]\n",
            " [False False False  True]\n",
            " [ True  True  True  True]\n",
            " [ True  True  True  True]\n",
            " [ True  True  True  True]\n",
            " [ True  True  True  True]\n",
            " [ True  True False False]\n",
            " [False False False False]\n",
            " [False False False False]]\n"
          ],
          "name": "stdout"
        }
      ]
    },
    {
      "cell_type": "code",
      "metadata": {
        "id": "JaJ0zDheSw2D",
        "colab_type": "code",
        "colab": {
          "base_uri": "https://localhost:8080/",
          "height": 51
        },
        "outputId": "701c5b85-0aaf-408c-b739-5008826c31e3"
      },
      "source": [
        "print(B[np.bitwise_and(B > -5, B < 5)])"
      ],
      "execution_count": 84,
      "outputs": [
        {
          "output_type": "stream",
          "text": [
            "[-4.5 -4.  -3.5 -3.  -2.5 -2.  -1.5 -1.  -0.5  0.   0.5  1.   1.5  2.\n",
            "  2.5  3.   3.5  4.   4.5]\n"
          ],
          "name": "stdout"
        }
      ]
    },
    {
      "cell_type": "code",
      "metadata": {
        "id": "mqXSTgrSS7e8",
        "colab_type": "code",
        "colab": {}
      },
      "source": [
        ""
      ],
      "execution_count": null,
      "outputs": []
    }
  ]
}